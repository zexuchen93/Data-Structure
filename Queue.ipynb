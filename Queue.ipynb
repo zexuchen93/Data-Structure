{
 "cells": [
  {
   "cell_type": "markdown",
   "metadata": {},
   "source": [
    "队列\n",
    "- 实现一个循环队列"
   ]
  },
  {
   "cell_type": "markdown",
   "metadata": {},
   "source": [
    "FIFO"
   ]
  },
  {
   "cell_type": "code",
   "execution_count": null,
   "metadata": {},
   "outputs": [],
   "source": [
    "# Implement queue with list\n",
    "class Queue(object):\n",
    "    def _init_(self):\n",
    "        self._size = 0\n",
    "        self._items =  []\n",
    "        \n",
    "    def _len_(self):\n",
    "        return self._size\n",
    "    \n",
    "    def enqueue(self, item):\n",
    "        self._size += 1\n",
    "        self._items.append(item)\n",
    "    # O(1)\n",
    "    \n",
    "        \n",
    "    def dequeue(self):\n",
    "        if self._size == 0:\n",
    "            return None\n",
    "        else:\n",
    "            self._size -= 1\n",
    "            val = self._items[0]\n",
    "            del val\n",
    "            return val\n",
    "    #(n)\n",
    "        \n",
    "    def empty(self):\n",
    "        return self._size == 0\n",
    "    \n",
    "    def front(self):\n",
    "        return self._items[0] if self._items[0] else None\n"
   ]
  },
  {
   "cell_type": "code",
   "execution_count": null,
   "metadata": {},
   "outputs": [],
   "source": [
    "# Implement queue with singly linked list\n",
    "class Queue(object):\n",
    "    def _init_(self):\n",
    "        self._head = None\n",
    "        self._tail = None\n",
    "        self._size = 0\n",
    "        \n",
    "    def _len_(self):\n",
    "        return self._size\n",
    "        \n",
    "    def enqueue(self, val):\n",
    "        new_node = ListNode(val)\n",
    "        if self._size == 0:\n",
    "            self._head = self._tail = new_node\n",
    "        else:\n",
    "            self._tail.next = new_node\n",
    "            self._tail = self._tail.next\n",
    "        self.size += 1\n",
    "            \n",
    "        \n",
    "    def dequeue(self):\n",
    "        if self._size == 0:\n",
    "            return None\n",
    "        else:\n",
    "            self._size -= 1\n",
    "            cur = self._head.val\n",
    "            self._head = self._head.next\n",
    "            if not self._head:\n",
    "                self._tail = None\n",
    "            return cur.node.val\n",
    "    # O(1)      \n",
    "        \n"
   ]
  },
  {
   "cell_type": "code",
   "execution_count": null,
   "metadata": {},
   "outputs": [],
   "source": [
    "class SqQueue(object):\n",
    "    def __init__(self, maxsize):\n",
    "        self.queue = [None] * maxsize\n",
    "        self.maxsize = maxsize\n",
    "        self.front = 0\n",
    "        self.rear = 0\n",
    "\n",
    "    \n",
    "    def QueueLength(self):\n",
    "        return (self.rear - self.front + self.maxsize) % self.maxsize\n",
    "\n",
    "    \n",
    "    def EnQueue(self, data):\n",
    "        if (self.rear + 1) % self.maxsize == self.front:\n",
    "            print(\"The queue is full!\")\n",
    "        else:\n",
    "            self.queue[self.rear] = data\n",
    "           # self.queue.insert(self.rear,data)\n",
    "            self.rear = (self.rear + 1) % self.maxsize\n",
    "\n",
    "\n",
    "    def DeQueue(self):\n",
    "        if self.rear == self.front:\n",
    "            print(\"The queue is empty!\")\n",
    "        else:\n",
    "            data = self.queue[self.front]\n",
    "            self.queue[self.front] = None\n",
    "            self.front = (self.front + 1) % self.maxsize\n",
    "            return data\n",
    "\n",
    "  \n",
    "    def ShowQueue(self):\n",
    "        for i in range(self.maxsize):\n",
    "            print(self.queue[i],end=',')\n",
    "        print(' ')\n",
    "\n",
    "if __name__ == \"__main__\":\n",
    "   \n",
    "    q = SqQueue(15)\n",
    "   \n",
    "    for i in range(10):\n",
    "        q.EnQueue(i)\n",
    "    q.ShowQueue()\n",
    " \n",
    "    for i in range(5):\n",
    "        q.DeQueue()\n",
    "    q.ShowQueue()\n",
    "\n",
    "    for i in range(8):\n",
    "        q.EnQueue(i)\n",
    "    q.ShowQueue()\n",
    "        "
   ]
  },
  {
   "cell_type": "markdown",
   "metadata": {},
   "source": []
  },
  {
   "cell_type": "code",
   "execution_count": null,
   "metadata": {},
   "outputs": [],
   "source": []
  },
  {
   "cell_type": "code",
   "execution_count": null,
   "metadata": {},
   "outputs": [],
   "source": []
  },
  {
   "cell_type": "code",
   "execution_count": null,
   "metadata": {},
   "outputs": [],
   "source": []
  }
 ],
 "metadata": {
  "kernelspec": {
   "display_name": "Python 3",
   "language": "python",
   "name": "python3"
  },
  "language_info": {
   "codemirror_mode": {
    "name": "ipython",
    "version": 3
   },
   "file_extension": ".py",
   "mimetype": "text/x-python",
   "name": "python",
   "nbconvert_exporter": "python",
   "pygments_lexer": "ipython3",
   "version": "3.7.1"
  }
 },
 "nbformat": 4,
 "nbformat_minor": 2
}
