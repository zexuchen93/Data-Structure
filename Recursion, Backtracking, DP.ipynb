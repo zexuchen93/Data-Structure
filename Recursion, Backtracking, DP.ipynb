{
 "cells": [
  {
   "cell_type": "code",
   "execution_count": null,
   "metadata": {},
   "outputs": [],
   "source": [
    "# leetcode 70 climb stairs\n",
    "class Solution:\n",
    "    def climbStairs(self, n: int) -> int:\n",
    "        if n == 0 or n == 1 or n == 2:\n",
    "            return  n\n",
    "        res = [1,2]\n",
    "        for i in range(1, n-1):\n",
    "            res.append(res[i-1]+res[i])\n",
    "        return res[n-1]\n"
   ]
  },
  {
   "cell_type": "markdown",
   "metadata": {},
   "source": [
    "Based on the backtracking framework, assuming we have put queens to previous k rows and the ith queen on its ith row is put in Ci column, when we consider the k+1 row, we need to make sure the queen we will put in this row will not be on thesame columns and diagonals as those previos ones.\n",
    "\n",
    "Thus, the domain for Ci is {1,2,...,n} and Pk(c1,c2,...,ck) should be\n",
    "ci !=cj and |cj - ci| != j-i for all 1 <=i<j <=k"
   ]
  },
  {
   "cell_type": "code",
   "execution_count": null,
   "metadata": {},
   "outputs": [],
   "source": [
    "# N queens\n",
    "def solvenqueens(n):\n",
    "    c, res = [], []\n",
    "    def imple(i):\n",
    "        if i == n:\n",
    "            res.append(['.'*t +'Q'+'.'*(n-t-1) for t in c])\n",
    "            return\n",
    "          \n",
    "        for t in xrange(n):\n",
    "            for pr in xrange(r):\n",
    "                if c[pr] == t or abs(t-c[pr]) == r-pr:\n",
    "                    break\n",
    "            else:\n",
    "                c.append(t)\n",
    "                impl(r+1)\n",
    "                c.pop()\n",
    "        impl(0)\n",
    "        return res"
   ]
  },
  {
   "cell_type": "code",
   "execution_count": null,
   "metadata": {},
   "outputs": [],
   "source": [
    "# minimum path sum\n",
    "def minimumPathSum(self, grid)\"\"\n",
    "  if not grid:\n",
    "        return 0\n",
    "    m,n = len(grid), len(grid[0])\n",
    "    dp = [[0]*n for i in range(m)]\n",
    "    dp[0][0] = grid[0][0]\n",
    "    for i in range(1,m):\n",
    "        dp [i][0] = dp[i-1][0] + grid[i][0]\n",
    "    for j in range(1, n):\n",
    "        dp [0][j] = dp[0][j-1]+ grid[0][j]\n",
    "    for i in range(1,m):\n",
    "        for j in range(1,n):\n",
    "            dp[i][j] = grid[i][j] + min(dp[i-1][j], dp[i][j-1])\n",
    "    return dp[-1][-1]"
   ]
  },
  {
   "cell_type": "markdown",
   "metadata": {},
   "source": [
    "Let the input sequences be X[0..m-1] and Y[0..n-1] of lengths m and n respectively. \n",
    "\n",
    "And let L(X[0..m-1], Y[0..n-1]) be the length of LCS of the two sequences X and Y. \n",
    "\n",
    "Following is the recursive definition of L(X[0..m-1], Y[0..n-1]).\n",
    "\n",
    "If last characters of both sequences match (or X[m-1] == Y[n-1]) then\n",
    "L(X[0..m-1], Y[0..n-1]) = 1 + L(X[0..m-2], Y[0..n-2])\n",
    "\n",
    "If last characters of both sequences do not match (or X[m-1] != Y[n-1]) then\n",
    "L(X[0..m-1], Y[0..n-1]) = MAX ( L(X[0..m-2], Y[0..n-1]), L(X[0..m-1], Y[0..n-2]) )\n",
    "\n"
   ]
  },
  {
   "cell_type": "code",
   "execution_count": null,
   "metadata": {},
   "outputs": [],
   "source": [
    "# longest common subsequence\n",
    "# subsequence -- what we're looking for does not to be continuous\n",
    "class Solution:\n",
    "    def longestCommonSubsequence(self, text1: str, text2: str) -> int:\n",
    "        m = len(text1)\n",
    "        n = len(text2)\n",
    "        L = [[0]*(n+1) for i in range(m+1)] \n",
    "\n",
    "        for i in range(m+1): \n",
    "            for j in range(n+1): \n",
    "                if i==0 or j==0:\n",
    "                    L[i][j]=0\n",
    "                elif text1[i-1] == text2[j-1]: \n",
    "                    L[i][j]=L[i-1][j-1]+1\n",
    "                else:\n",
    "                    L[i][j]=max(L[i-1][j],L[i][j-1])\n",
    "    \n",
    "        return L[m][n] "
   ]
  },
  {
   "cell_type": "code",
   "execution_count": null,
   "metadata": {},
   "outputs": [],
   "source": [
    "# longest consecutive subsequence\n",
    "class Solution:\n",
    "    def longestConsecutive(self, nums: List[int]) -> int:\n",
    "        res = 0\n",
    "        nums = set(nums)\n",
    "        for num in nums:\n",
    "            if num-1 not in nums:\n",
    "                cur = num\n",
    "                cur_res = 1\n",
    "                while cur+1 in nums:\n",
    "                    cur += 1\n",
    "                    cur_res += 1\n",
    "                res = max(res, cur_res)\n",
    "        return res"
   ]
  },
  {
   "cell_type": "code",
   "execution_count": null,
   "metadata": {},
   "outputs": [],
   "source": [
    "# Letter Combinations of a Phone Number(17)\n",
    "def letterComb(self, digits):\n",
    "    ans = []\n",
    "    tmp = []\n",
    "    nums = ['2', '3', '4', '5', '6', '7', '8', '9']\n",
    "    chars = ['abc', 'def', 'ghi', 'jkl', 'mno', 'pqrs', 'tuv', 'wxyz']\n",
    "    mapping = {i:j for i, j on zip(nums, chars)}\n",
    "    if len(digits) == 0:\n",
    "        return ans\n",
    "    def bt(ans, digits, idx, tmp):\n",
    "        if len(tmp) == len(digits):\n",
    "            ans.append(''.join(tmp))\n",
    "            return \n",
    "        for c in mapping[digits[index]]:\n",
    "            tmp.append(c)\n",
    "            bt(ans, digits, idx+1, tmp)\n",
    "            tmp.pop()\n",
    "    bt(ans, digits, 0, tmp )\n",
    "    return ans\n",
    "    \n"
   ]
  },
  {
   "cell_type": "code",
   "execution_count": null,
   "metadata": {},
   "outputs": [],
   "source": [
    "# permutations(46)\n",
    "def permute(nums):\n",
    "    if not nums:\n",
    "        return [[]]\n",
    "\n",
    "    return [perm[:pos] +nums[0]]+perm[pos:] for perm in permute(nums[1:] fpr pos in xrange(len(perm)+1))"
   ]
  },
  {
   "cell_type": "code",
   "execution_count": null,
   "metadata": {},
   "outputs": [],
   "source": [
    "# Palindrome Partitioning II(132) \n",
    "class Solution:\n",
    "    def minCut(self, s: str) -> int:\n",
    "        n = len(s)\n",
    "        dp = [0 for i in range(n+1)]\n",
    "        isPali = [[False for i in range(n)] for j in range(n)]\n",
    "        for i in range(n+1):\n",
    "            dp[i] = n-i\n",
    "            \n",
    "        for i in range(n-1, -1, -1):\n",
    "            for j in range(i, n):\n",
    "                if s[i] == s[j] and ((j in [i, i+1]) or isPali[i+1][j-1]):\n",
    "                    isPali[i][j] = True\n",
    "                    dp[i] = min(dp[i], dp[j+1]+1)\n",
    "        return dp[0] - 1"
   ]
  },
  {
   "cell_type": "markdown",
   "metadata": {},
   "source": [
    "The idea is to find the minimum # of coins required to make x value in the range 0 to the input amount. This is done by iterating through all of the coins, and for each possible value the coin can create, saving to a global list the minimum number of coins required. dp[i] stores the number of coins required, while the index, i, is the value that we are trying to create with x number of coins."
   ]
  },
  {
   "cell_type": "code",
   "execution_count": null,
   "metadata": {},
   "outputs": [],
   "source": [
    "# coin change\n",
    "class Solution:\n",
    "    def coinChange(self, coins: List[int], amount: int) -> int:\n",
    "        dp = [0]+[float('inf')]*amount\n",
    "        \n",
    "        for coin in coins:\n",
    "            for i in range(coin, amount+1):\n",
    "                dp[i] = min(dp[i], dp[i-coin]+1)\n",
    "        return dp[-1] if dp[-1] != float('inf') else -1"
   ]
  },
  {
   "cell_type": "code",
   "execution_count": null,
   "metadata": {},
   "outputs": [],
   "source": [
    "# best time to buy and sell stock\n",
    "class Solution(object):\n",
    "    def maxProfit(self, prices):\n",
    "        \"\"\"\n",
    "        :type prices: List[int]\n",
    "        :rtype: int\n",
    "        \"\"\"\n",
    "        maxprofit = 0\n",
    "        if not prices:\n",
    "            return 0\n",
    "        \n",
    "        for i in range(1, len(prices)):\n",
    "            if prices[i] > prices[i-1]:\n",
    "                maxprofit += prices[i] - prices[i-1]\n",
    "        \n",
    "        return maxprofit\n",
    "        "
   ]
  },
  {
   "cell_type": "markdown",
   "metadata": {},
   "source": [
    "Dp[r][c] represents the minimum sum at index [r][c] starts from [0][0].\n",
    "\n",
    "For Dp[r][c], it only allows to add Dp[r-1][c-1] and Dp[r-1][c], and the minimum of Dp[r-1][c-1] and Dp[r-1][c]\n",
    "\n",
    "coner case:\n",
    "r = 0 , r-1 = -1."
   ]
  },
  {
   "cell_type": "code",
   "execution_count": null,
   "metadata": {},
   "outputs": [],
   "source": [
    "# triangle\n",
    "class Solution:\n",
    "    def minimumTotal(self, triangle: List[List[int]]) -> int:\n",
    "        A = triangle\n",
    "        # initialization\n",
    "        n = len(A)\n",
    "        dp = [[0 for i in range(n)] for j in range(n)]\n",
    "        dp[0][0] = A[0][0]\n",
    "        for r in range(1, n):\n",
    "            for c in range(r+1):\n",
    "                if c == 0:\n",
    "                    dp[r][c] = dp[r - 1][c] + A[r][c] \n",
    "                elif c == r:\n",
    "                    dp[r][c] = dp[r - 1][c - 1] + A[r][c] \n",
    "                else:\n",
    "                    dp[r][c] = min(dp[r - 1][c - 1], dp[r - 1][c])+ A[r][c] \n",
    "        res = dp[n - 1][0]\n",
    "        for c in range(n):\n",
    "            res = min(res, dp[n - 1][c]) \n",
    "        return res"
   ]
  },
  {
   "cell_type": "code",
   "execution_count": null,
   "metadata": {},
   "outputs": [],
   "source": []
  },
  {
   "cell_type": "code",
   "execution_count": null,
   "metadata": {},
   "outputs": [],
   "source": []
  }
 ],
 "metadata": {
  "kernelspec": {
   "display_name": "Python 3",
   "language": "python",
   "name": "python3"
  },
  "language_info": {
   "codemirror_mode": {
    "name": "ipython",
    "version": 3
   },
   "file_extension": ".py",
   "mimetype": "text/x-python",
   "name": "python",
   "nbconvert_exporter": "python",
   "pygments_lexer": "ipython3",
   "version": "3.7.1"
  }
 },
 "nbformat": 4,
 "nbformat_minor": 2
}
