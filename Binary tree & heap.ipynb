{
 "cells": [
  {
   "cell_type": "code",
   "execution_count": null,
   "metadata": {},
   "outputs": [],
   "source": [
    "【二叉树】\n",
    "实现一个二叉查找树，并且支持插入、删除、查找操作\n",
    "实现查找二叉查找树中某个节点的后继、前驱节点\n",
    "并完成leetcode上的验证二叉搜索树(98)及二叉树 层次遍历(102,107)\n",
    "【堆】\n",
    "实现一个小顶堆、大顶堆、优先级队列\n",
    "实现堆排序\n",
    "利用优先级队列合并 K 个有序数组\n",
    "求一组动态数据集合的最大 Top K"
   ]
  },
  {
   "cell_type": "code",
   "execution_count": null,
   "metadata": {},
   "outputs": [],
   "source": [
    "# definition: at most two children node\n",
    "class TreeNode:\n",
    "    def _init_(self, x):\n",
    "        self.val = x\n",
    "        self.left = None\n",
    "        self.right = None\n",
    "        "
   ]
  },
  {
   "cell_type": "code",
   "execution_count": null,
   "metadata": {},
   "outputs": [],
   "source": [
    "# pre-order traversal\n",
    "def preOrder(self, root):\n",
    "    res = []\n",
    "    self.helper(root, res)\n",
    "    return res\n",
    "\n",
    "def helper(self, root, res):\n",
    "    if not root:\n",
    "        return \n",
    "    res.append(root.val)\n",
    "    if root.left:\n",
    "        self.helper(root.left, res)\n",
    "    if root.right:\n",
    "        self.helper(root.right, res)\n",
    "        "
   ]
  },
  {
   "cell_type": "code",
   "execution_count": null,
   "metadata": {},
   "outputs": [],
   "source": [
    "# in-order traversal\n",
    "def inOrder(self, root):\n",
    "    res = []\n",
    "    self.helper(root, res)\n",
    "    return res\n",
    "\n",
    "def helper(self, root, res):\n",
    "    if not root:\n",
    "        return \n",
    "    if root.left:\n",
    "        self.helper(root.left, res)\n",
    "    res.append(root.val)\n",
    "    if root.right:\n",
    "        self.helper(root.right, res)\n",
    "        \n"
   ]
  },
  {
   "cell_type": "code",
   "execution_count": null,
   "metadata": {},
   "outputs": [],
   "source": [
    "# post-order\n",
    "def postOrder(self, root):\n",
    "    res = []\n",
    "    self.helper(root, res)\n",
    "    return res\n",
    "\n",
    "def helper(self, root, res):\n",
    "    if not root:\n",
    "        return \n",
    "    if root.left:\n",
    "        self.helper(root.left, res)\n",
    "    if root.right:\n",
    "        self.helper(root.right, res)\n",
    "    res.append(root.val)"
   ]
  },
  {
   "cell_type": "code",
   "execution_count": 2,
   "metadata": {},
   "outputs": [],
   "source": [
    "# level order traversal\n",
    "def levelOrder(self, root):\n",
    "    curlevel = [root]\n",
    "    nextlevel = []\n",
    "    line = []\n",
    "    while curlevel:\n",
    "        head = curlevel.pop()\n",
    "        if head.left:\n",
    "            nextlevel.append(head.left)\n",
    "        if head.right:\n",
    "            nextlevel.append(head.right)\n",
    "        line.append(head.val)\n",
    "        if not curlevel:\n",
    "            print(line)\n",
    "            if nextlevel:\n",
    "                curlevel = nextlevel\n",
    "                nextlevel = []\n",
    "                line = []\n",
    "    \n",
    "    "
   ]
  },
  {
   "cell_type": "code",
   "execution_count": null,
   "metadata": {},
   "outputs": [],
   "source": [
    "'''\n",
    "balanced binary tree:\n",
    "complete binary tree:\n",
    "binary search tree:\n",
    "\n",
    "'''\n",
    "\n"
   ]
  },
  {
   "cell_type": "code",
   "execution_count": null,
   "metadata": {},
   "outputs": [],
   "source": [
    "class _Node(object):\n",
    "    def _init_(self, key, value):\n",
    "        self.key = key\n",
    "        self.val = value\n",
    "        self.left = None\n",
    "        self.right = None\n",
    "        \n",
    "\n",
    "class BinarySearchTree(object):\n",
    "    def _init_(self):\n",
    "        self.root = None\n",
    "       \n",
    "    def _insert(self, key, val):\n",
    "        # if key ia already presented, update the associated value\n",
    "        # otherwise, a new key value pair will be put into the tree\n",
    "        if not root:\n",
    "            return _Node(key, value)\n",
    "        if key < root.key:\n",
    "            root.left = self._insert(root.left, value)\n",
    "        elif key > root.key:\n",
    "            root.right = self._insert(root.right, value)\n",
    "        else:\n",
    "            root.value = value\n",
    "        return root\n",
    "    \n",
    "    def insert(self, key, value):\n",
    "        self._root = self._insert(self._root, key, value)\n",
    "        \n",
    "        \n",
    "    def _query(self, root, key):\n",
    "        if not root:\n",
    "            return None\n",
    "        if key < root.key:\n",
    "            return self._query(root.left, key)\n",
    "        elif key > root.key:\n",
    "            return self._query(root.right, key)\n",
    "        else:\n",
    "            return root.value\n",
    "    def query(self, key):\n",
    "        return self._query(self._root, key)\n",
    "        \n",
    "\n",
    "        "
   ]
  },
  {
   "cell_type": "code",
   "execution_count": null,
   "metadata": {},
   "outputs": [],
   "source": []
  },
  {
   "cell_type": "code",
   "execution_count": null,
   "metadata": {},
   "outputs": [],
   "source": []
  },
  {
   "cell_type": "code",
   "execution_count": null,
   "metadata": {},
   "outputs": [],
   "source": [
    "# merge k sorted arrays\n",
    "import heapq\n",
    "\n",
    "def mergek(self, arrays):\n",
    "    if not arrays:\n",
    "        return None\n",
    "    heap = []\n",
    "    for i xrange(len(arrays)):\n",
    "        # insert every first element in each array\n",
    "        if len(arrays[i]):\n",
    "            heap.append((array[i][0], i, 0))\n",
    "    heapq.heapify(heap)\n",
    "    result = []\n",
    "    while heap:\n",
    "        val, index_array ,index_element = heapq.heappop(heap)\n",
    "        result.append(val)\n",
    "        if index_element + 1 < len(arrays[index_array]):\n",
    "            heapq.heappush(heap, (arrays[index_array][index_element+1], index_array, index_element+1))\n",
    "    return result"
   ]
  },
  {
   "cell_type": "code",
   "execution_count": null,
   "metadata": {},
   "outputs": [],
   "source": [
    "# top k \n",
    "import heapq\n",
    "\n",
    "def topk(self, nums):\n",
    "    heap = []\n",
    "    for x in nums:\n",
    "        heap.append(x)\n",
    "    heapq.heapify(heap)\n",
    "    res = []\n",
    "    for i in range(k):\n",
    "        res.qppend(heapq.heappop(heap)[1])\n",
    "    return res"
   ]
  },
  {
   "cell_type": "code",
   "execution_count": null,
   "metadata": {},
   "outputs": [],
   "source": []
  },
  {
   "cell_type": "code",
   "execution_count": null,
   "metadata": {},
   "outputs": [],
   "source": []
  }
 ],
 "metadata": {
  "kernelspec": {
   "display_name": "Python 3",
   "language": "python",
   "name": "python3"
  },
  "language_info": {
   "codemirror_mode": {
    "name": "ipython",
    "version": 3
   },
   "file_extension": ".py",
   "mimetype": "text/x-python",
   "name": "python",
   "nbconvert_exporter": "python",
   "pygments_lexer": "ipython3",
   "version": "3.7.1"
  }
 },
 "nbformat": 4,
 "nbformat_minor": 2
}
