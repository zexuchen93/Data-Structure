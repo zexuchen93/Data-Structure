{
 "cells": [
  {
   "cell_type": "code",
   "execution_count": null,
   "metadata": {},
   "outputs": [],
   "source": [
    "def fib(self, n):\n",
    "    if n == 0 or n == 1:\n",
    "        return n\n",
    "    ans = self.fib(n-1) + self.fib(n-2)\n",
    "    return ans"
   ]
  },
  {
   "cell_type": "code",
   "execution_count": null,
   "metadata": {},
   "outputs": [],
   "source": [
    "def factorial(self, n):\n",
    "    if n == 1 or n == 2:\n",
    "        return n\n",
    "    return self.factorial(n-1)*self.factorial(n-2)"
   ]
  },
  {
   "cell_type": "code",
   "execution_count": null,
   "metadata": {},
   "outputs": [],
   "source": [
    "def permu(self, nums):\n",
    "    res = []\n",
    "    def impl(i):\n",
    "        if i == len(nums):\n",
    "            res.append(nums[:])\n",
    "            return\n",
    "        for j in range(i, len(nums)):\n",
    "            nums[i], nums[j] = nums[j], nums[i]\n",
    "            impl(i+1)\n",
    "            nums[j], nums[i] = nums[i], nums[j]\n",
    "            \n",
    "        impl(0)\n",
    "        return res\n",
    "        "
   ]
  }
 ],
 "metadata": {
  "kernelspec": {
   "display_name": "Python 3",
   "language": "python",
   "name": "python3"
  },
  "language_info": {
   "codemirror_mode": {
    "name": "ipython",
    "version": 3
   },
   "file_extension": ".py",
   "mimetype": "text/x-python",
   "name": "python",
   "nbconvert_exporter": "python",
   "pygments_lexer": "ipython3",
   "version": "3.7.1"
  }
 },
 "nbformat": 4,
 "nbformat_minor": 2
}
