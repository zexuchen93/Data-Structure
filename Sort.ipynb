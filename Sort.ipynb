{
 "cells": [
  {
   "cell_type": "code",
   "execution_count": null,
   "metadata": {},
   "outputs": [],
   "source": [
    "# bubble sort --O(n^2)\n",
    "def bubbleSort(self, nums):\n",
    "    for i in range(len(nums)， 0 ， -1):\n",
    "        for j in range(n):\n",
    "            if nums[j+1] < nums[j]:\n",
    "                nums[j+1], nums[j] = nums[j], nums[j+1]\n",
    "    return nums"
   ]
  },
  {
   "cell_type": "code",
   "execution_count": null,
   "metadata": {},
   "outputs": [],
   "source": [
    "#selection sort\n",
    "def selectionSort(self, nums):\n",
    "    for i in range(len(nums), 0, -1):\n",
    "        max_index = 0\n",
    "        for j in range(i+1, len(nums)):\n",
    "            if nums[j] > nums[max_index]:\n",
    "                max_index = j\n",
    "        nums[i] = nums[max_index]\n",
    "                \n",
    "  "
   ]
  },
  {
   "cell_type": "code",
   "execution_count": null,
   "metadata": {},
   "outputs": [],
   "source": [
    "# insertion sort\n",
    "def insertSort(self, nums):\n",
    "    for i in range(1, len(nums)):\n",
    "        cur = nums[i]\n",
    "        k = i\n",
    "        while cur < nums[k-1] and k > 0:\n",
    "            num[k] = num[k-1]\n",
    "            k -= 1\n"
   ]
  },
  {
   "cell_type": "code",
   "execution_count": null,
   "metadata": {},
   "outputs": [],
   "source": [
    "# quick sort\n",
    "def quickSort(self, nums):\n",
    "    pivot = "
   ]
  },
  {
   "cell_type": "code",
   "execution_count": null,
   "metadata": {},
   "outputs": [],
   "source": [
    "# merge sort"
   ]
  },
  {
   "cell_type": "code",
   "execution_count": null,
   "metadata": {},
   "outputs": [],
   "source": [
    "# heap sort"
   ]
  },
  {
   "cell_type": "code",
   "execution_count": null,
   "metadata": {},
   "outputs": [],
   "source": [
    "# find the kth biggest element\n"
   ]
  },
  {
   "cell_type": "code",
   "execution_count": null,
   "metadata": {},
   "outputs": [],
   "source": []
  },
  {
   "cell_type": "code",
   "execution_count": null,
   "metadata": {},
   "outputs": [],
   "source": []
  }
 ],
 "metadata": {
  "kernelspec": {
   "display_name": "Python 3",
   "language": "python",
   "name": "python3"
  },
  "language_info": {
   "codemirror_mode": {
    "name": "ipython",
    "version": 3
   },
   "file_extension": ".py",
   "mimetype": "text/x-python",
   "name": "python",
   "nbconvert_exporter": "python",
   "pygments_lexer": "ipython3",
   "version": "3.7.1"
  }
 },
 "nbformat": 4,
 "nbformat_minor": 2
}
