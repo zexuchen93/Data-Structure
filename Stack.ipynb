{
 "cells": [
  {
   "cell_type": "markdown",
   "metadata": {},
   "source": [
    "https://shimo.im/docs/qCGggx9Yc9XjpYTK/read"
   ]
  },
  {
   "cell_type": "markdown",
   "metadata": {},
   "source": [
    "### Implementations backed by list"
   ]
  },
  {
   "cell_type": "code",
   "execution_count": null,
   "metadata": {},
   "outputs": [],
   "source": [
    "class Stack(object):\n",
    "    def _init_(self)\n",
    "        # initializes the internal to become a valid empty stack\n",
    "        self._size = 0\n",
    "        sself._items = []\n",
    "    \n",
    "    def _len_(self):\n",
    "        #return the number of items that are stored in the stack\n",
    "        return self._size\n",
    "    \n",
    "    def push(self, item):\n",
    "        # puts the item into this stack\n",
    "        self._items.append(item)\n",
    "        self._size += 1\n",
    "        \n",
    "    def pop(self):\n",
    "        # takes an item has been in the stack for the smallest time out from this stack and returns it.\n",
    "        if self.empty is True:\n",
    "            return None\n",
    "        else:\n",
    "            self._size -= 1\n",
    "            tmp = self._items[-1]\n",
    "            del self._items[-1]\n",
    "            return tmp\n",
    "        \n",
    "    def empty(self):\n",
    "        # returns true if the queue is empty\n",
    "        return self._size == 0\n",
    "    \n",
    "    def peek(self):\n",
    "        # return the item that has been in the queue for the smallest time without removing it from our stack\n",
    "        return self._items[-1]\n",
    "        \n",
    "        \n",
    "        \n",
    "        "
   ]
  },
  {
   "cell_type": "markdown",
   "metadata": {},
   "source": [
    "### Implementations backed by linked list"
   ]
  },
  {
   "cell_type": "code",
   "execution_count": null,
   "metadata": {},
   "outputs": [],
   "source": [
    "class ListNode(object):\n",
    "    def _init(self, val):\n",
    "        self._next = None\n",
    "        self.val = val\n",
    "    \n",
    "class Stack(object):\n",
    "    def _init_(self):\n",
    "        self._head = None\n",
    "        self._tail = None\n",
    "        self._size = 0\n",
    "        \n",
    "    def _len_(self):\n",
    "        return self._size\n",
    "    \n",
    "    def empty(self):\n",
    "        return sel._size == 0\n",
    "    \n",
    "    def push(self, val):\n",
    "        self._tail = ListNode(val)\n",
    "        self._tail = self._tail.next\n",
    "        self.size += 1\n",
    "        \n",
    "    def pop(self):\n",
    "        if self.empty is True:\n",
    "            return None\n",
    "        tmp = self._head.val\n",
    "        self._head = self._head.next\n",
    "        self._size -= 1\n",
    "        return tmp\n",
    "        "
   ]
  },
  {
   "cell_type": "code",
   "execution_count": null,
   "metadata": {},
   "outputs": [],
   "source": []
  },
  {
   "cell_type": "markdown",
   "metadata": {},
   "source": [
    "class URL(object):\n",
    "    def _init_(self, url):\n",
    "        self.address = url\n",
    "        self.isBack = False\n",
    "        self.isForward = False\n",
    "        \n",
    "    def setBack(self, val):\n",
    "        self.isBack = val\n",
    "        \n",
    "    def setForward(self, val):\n",
    "        self.isForward = val\n",
    "        \n",
    "    def isBack(self):\n",
    "        return self.isBack\n",
    "    \n",
    "    def isForward(self):\n",
    "        return self.isForward\n",
    "    \n",
    "    def getAddress(self):\n",
    "        return self.address\n",
    "    \n",
    "    \n",
    "    "
   ]
  },
  {
   "cell_type": "code",
   "execution_count": null,
   "metadata": {},
   "outputs": [],
   "source": []
  },
  {
   "cell_type": "code",
   "execution_count": null,
   "metadata": {},
   "outputs": [],
   "source": []
  },
  {
   "cell_type": "code",
   "execution_count": null,
   "metadata": {},
   "outputs": [],
   "source": []
  }
 ],
 "metadata": {
  "kernelspec": {
   "display_name": "Python 3",
   "language": "python",
   "name": "python3"
  },
  "language_info": {
   "codemirror_mode": {
    "name": "ipython",
    "version": 3
   },
   "file_extension": ".py",
   "mimetype": "text/x-python",
   "name": "python",
   "nbconvert_exporter": "python",
   "pygments_lexer": "ipython3",
   "version": "3.7.1"
  }
 },
 "nbformat": 4,
 "nbformat_minor": 2
}
